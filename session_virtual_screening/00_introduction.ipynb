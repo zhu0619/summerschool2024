{
 "cells": [
  {
   "cell_type": "markdown",
   "metadata": {},
   "source": [
    "# Lab 1: Ligand-based Virtual Screening \n",
    "\n",
    "In this first lab, we will delve into the realm of virtual screening. Using datasets of 2D molecules, we will develop predictive models to assess inhibitory activity against a human kinase EGFR(Epidermal Growth Factor Receptor) protein. Building on concepts from lectures on molecular representation, scoring, and Graph Neural Networks (GNNs) for Chemistry, we will utilize `PyTorch`,`PyG`, `Scikit-learn`, and other libraries to create both GNN models and classical Random Forest models with molecular fingerprints. The ultimate objective is to screen a small commercial library and select 100 promising molecules for further experimental investigation."
   ]
  },
  {
   "attachments": {},
   "cell_type": "markdown",
   "metadata": {},
   "source": [
    "<img src=\"figures/fphar-09-01275-g001.jpg\" width=\"500\"/>\n",
    "\n",
    "<p style=\"color:sliver\">Figure from https://doi.org/10.3389/fphar.2018.01275</p>\n",
    "\n"
   ]
  },
  {
   "cell_type": "markdown",
   "metadata": {},
   "source": [
    "## Content\n",
    "- [Introduction](#intro)\n",
    "- [Data acquisition and preparation](#data)\n",
    "- [Machine learning - QSAR modeling](#ml)\n",
    "- [Virtual screening on commercial library](#vs)\n",
    "- [Compound prioritization](#prio)\n",
    "- [Discussion](#disc)"
   ]
  },
  {
   "cell_type": "markdown",
   "metadata": {
    "vscode": {
     "languageId": "plaintext"
    }
   },
   "source": [
    "\n",
    "To run this tutorial, please ensure all dependencies below are installed. \n",
    "\n",
    "- `datamol`\n",
    "- `molfeat`\n",
    "- `splito`\n",
    "- `scikit-learn`\n",
    "- `pytorch`\n",
    "- `pyG`\n",
    "<!-- - Optional: `chembl_webresource_client` -->\n",
    "\n",
    "You can install those dependencies by \n",
    "```shell\n",
    "conda env create -f env.yml\n",
    "```"
   ]
  },
  {
   "cell_type": "code",
   "execution_count": null,
   "metadata": {
    "vscode": {
     "languageId": "plaintext"
    }
   },
   "outputs": [],
   "source": []
  },
  {
   "cell_type": "markdown",
   "metadata": {
    "vscode": {
     "languageId": "plaintext"
    }
   },
   "source": [
    "## Target of interest: EGFR (Epidermal Growth Factor Receptor)\n",
    "\n",
    "The protein encoded by this gene is a transmembrane glycoprotein that is a member of the protein **kinase** superfamily. This protein is a receptor for members of the epidermal growth factor family. EGFR is a cell surface protein that binds to epidermal growth factor, thus inducing receptor dimerization and tyrosine autophosphorylation leading to cell proliferation. \n",
    "\n",
    "EGFR is a frequently over-expressed and aberrantly activated trans-membrane protein in non-small cell lung cancer (NSCLC) patients, described for the first time in 2004. Mutations in this gene are associated with lung cancer in particular."
   ]
  },
  {
   "cell_type": "markdown",
   "metadata": {},
   "source": [
    "### Types of EGFR inhibitions:\n",
    "- competitive \n",
    "- covalent\n",
    "- allosteric"
   ]
  },
  {
   "attachments": {},
   "cell_type": "markdown",
   "metadata": {},
   "source": [
    "**Example of first generation EGFR inhibitor**\\\n",
    "<img src=\"figures/EGFR_ATP.png\" width=\"500\"/>\n"
   ]
  },
  {
   "attachments": {},
   "cell_type": "markdown",
   "metadata": {},
   "source": [
    "### Targeted compound library\n",
    "\n",
    "In this tutorial, we will focus on identifying potential inhibitors that target the ATP-binding pocket of kinases. We will perform virtual screening against 24 000 compounds compounds from the [Hinge Binders Library](https://enamine.net/compound-libraries/targeted-libraries/kinase-library/hinge-binders-library), a commercial library specifically designed for discovering novel kinase ATP pocket binders. By utilizing this targeted library, we aim to efficiently identify promising candidates and prioritize our experimental resources on the most promising leads.\n",
    "\n",
    "<img src=\"figures/KINASE_HINGE_RDL_1.png\" width=\"500\"/>\n"
   ]
  },
  {
   "cell_type": "markdown",
   "metadata": {},
   "source": [
    "# Questions?"
   ]
  }
 ],
 "metadata": {
  "kernelspec": {
   "display_name": "Python 3 (ipykernel)",
   "language": "python",
   "name": "python3"
  },
  "language_info": {
   "codemirror_mode": {
    "name": "ipython",
    "version": 3
   },
   "file_extension": ".py",
   "mimetype": "text/x-python",
   "name": "python",
   "nbconvert_exporter": "python",
   "pygments_lexer": "ipython3",
   "version": "3.12.3"
  }
 },
 "nbformat": 4,
 "nbformat_minor": 4
}
