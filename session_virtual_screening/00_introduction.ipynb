{
 "cells": [
  {
   "cell_type": "markdown",
   "metadata": {},
   "source": [
    "# Lab 1: Virtual Screening \n",
    "\n",
    "**Goal**: Use _in silico_ methods to screen novel leads from dozens to millions of molecules, aiming to identify lead compounds that can be optimized into viable drug candidates."
   ]
  },
  {
   "attachments": {},
   "cell_type": "markdown",
   "metadata": {},
   "source": [
    "<img src=\"figures/In-Silico-Virtual-Screening-1.jpg\" width=\"500\"/>\n",
    "<p style=\"color:lightgrey\">Ref: https://drug-discovery.creative-biostructure.com/in-silico-virtual-screening-p32</p>\n",
    "\n"
   ]
  },
  {
   "cell_type": "markdown",
   "metadata": {},
   "source": [
    "## Content\n",
    "- [Concept](#concept)\n",
    "- [QSAR modeling](01_qsar_modeling.ipynb)\n",
    "- [Virtual screening & prioritization](02_virtual_screening.ipynb)\n",
    "- [Lab recap](03_recap.ipynb)"
   ]
  },
  {
   "cell_type": "markdown",
   "metadata": {},
   "source": [
    "<a id=\"concept\"> </a>\n",
    "## Concept\n",
    "### Ligand-based virtual screening\n",
    "\n",
    "This strategy focuses on analyzing the structures, physicochemical properties, and structure-activity relationships (SAR) of compounds with both known and unknown activities. By establishing SAR, it predicts and screens the activity of novel compounds.\n",
    "\n",
    "In this approach, a target protein is not directly used to identify potential ligands. Instead, the emphasis is on finding compounds that are structurally and functionally similar to known active compounds. It is an important complementary means for molecular docking, and the strategy has the advantages of fast speed and good versatility (not limited by the target structure).\n",
    " \n",
    "<img src=\"figures/fphar-09-01275-g001.jpg\" width=\"500\"/>\n",
    "\n",
    "\n",
    "### Screening libraries\n",
    "Choosing these appropriate libraries which provide robust starting points for virtual screening in drug discovery, helping researchers identify and optimize lead compounds efficiently. The choice of which chemical libraries to screen should be guided by the goals of the project and the biological system of interest. It depends on the diversity of the chemical space, the quality and availability of compounds, and any associated bioactivity data.  \n",
    "\n",
    "<img src=\"figures/libraries.jpg\" width=\"500\"/>\n",
    "<p style=\"color:grey\">Illustration of chemical spaces of commercially available or tangible compounds.</p>\n",
    "<p style=\"color:lightgrey\">Ref: https://www.sciencedirect.com/science/article/pii/S1359644618304471#fig0015</p>\n"
   ]
  },
  {
   "cell_type": "markdown",
   "metadata": {
    "vscode": {
     "languageId": "plaintext"
    }
   },
   "source": [
    "### Machine learning (ML)\n",
    "With the increasing availability of extensive data sources, ML has gained significant momentum in drug discovery, particularly in ligand-based virtual screening.\n",
    "\n",
    "**Supervised**: A learning algorithm creates rules by finding patterns in the training data.\n",
    "- **Classification** : Identify which category an object belongs to.\n",
    "- **Regression**: Prediction of a continuous-values attribute associated with an object.\n",
    "\n",
    "**Unsupervised**\n",
    "- Clustering : Automated grouping of similar objects into sets.\n",
    "\n",
    "\n",
    "#### Supervised ML algorithms\n",
    "Learning algorithm creates rules by finding patterns in the training data.\n",
    "- **Random Forest (RF)**: Ensemble of decision trees. A single decision tree splits the features of the input vector in a way that maximizes an objective function. In the random forest algorithm, the trees that are grown are de-correlated because the choice of features for the splits are chosen randomly.\n",
    "\n",
    "<img src=\"figures/randomforest.png\" width=\"600\"/>\n",
    "\n",
    "- **Graph neural network(GNN)**: A category of deep neural networks whose inputs are graphs and provide a way around the choice of descriptors. A GNN can take a molecule directly as input. GNNs are specific layers that input a graph and output a graph.\n",
    "    \n",
    "<img src=\"figures/gnn_ml.png\" width=\"800\"/>\n",
    "\n",
    "<!-- <p style=\"color:sliver\">Ref: https://github.com/chaitjo/geometric-gnn-dojo/blob/main/geometric_gnn_101.ipynb</p> -->\n"
   ]
  },
  {
   "cell_type": "markdown",
   "metadata": {
    "vscode": {
     "languageId": "plaintext"
    }
   },
   "source": [
    "### Model evaluation and selection\n",
    "Model evaluation is the process of using different evaluation metrics to understand a machine learning model’s performance, as well as its strengths and weaknesses.\n",
    "\n",
    "#### Data splitting \n",
    "\n",
    "The original data in a machine learning model is typically taken and split into two, three or more sets. The three sets commonly used are the training set, validation set and the testing set. \n",
    "\n",
    "In drug discovery, proper data splitting ensures that models can generalize well to new, unseen chemical spaces, which is essential in predicting the activity of novel compounds outside the distribution of the training data (the chemical space of the screening library in virtusl screening).\n",
    "\n",
    "Common data splitting techniques in drug discovery:\n",
    "- **Random splitting**: Randomly divides the dataset into training, validation, and test sets.\n",
    "- **Scaffold-based splitting**: Splits data based on the molecular scaffolds (core structures) of the compounds.\n",
    "- **Temporal splitting**: Splits data based on the time of data generation, with older data used for training and newer data for testing.\n",
    "- **Activity-based splitting**: Ensures that compounds with a range of activities (e.g., high, medium, low) are present in both training and test sets.\n",
    "- **Cluster-base splitting**:  Uses clustering algorithms to group similar compounds and then splits clusters into training and test sets.\n",
    "\n",
    "The **choice** of splitting approach depends on factors such as: \n",
    "- the stage and purpose of the drug discovery program\n",
    "- the structural diversity of the dataset\n",
    "- the characteristics of the deployment set to which the predictive model will be applied\n",
    "\n",
    "\n",
    "#### Validation strategies\n",
    "\n",
    "<img src=\"figures/splitting.png\" width=\"500\"/>\n",
    "\n",
    "- Train-Validation-Test Split: Divide the dataset into three subsets: training, validation, and test sets. The training set is used for model training, the validation set for hyperparameter tuning, and the test set for final evaluation.\n",
    "- Cross-Validation: Partition the dataset into k-folds, train the model on k-1 folds, and validate on the remaining fold. Repeat k times and average the results.\n",
    "- Leave-One-Out Cross-Validation (LOOCV): A special case of k-fold where k equals the number of samples. Train on all samples except one, and test on the excluded sample. Repeat for all samples.\n",
    "\n",
    "#### External Validation\n",
    "\n",
    "- **Independent Test Set**: Evaluate the model on an independent dataset not used in any part of the model training or validation process.\n",
    "- **External Benchmarks**: Compare the model’s performance against established benchmarks or datasets from different sources.\n"
   ]
  },
  {
   "cell_type": "markdown",
   "metadata": {
    "vscode": {
     "languageId": "plaintext"
    }
   },
   "source": [
    "\n",
    "### Compound prioritization\n",
    "Compound prioritization in virtual screening is the process of ranking and selecting the most promising compounds from a large pool of candidates based on predicted activities and other relevant criteria. This step is crucial in drug discovery as it helps to identify potential lead compounds efficiently and effectively, saving time and resources in the experimental validation phase. \n",
    "\n",
    "- Desired potency \n",
    "- Desired molecule properties\n",
    "- ADMET properties\n",
    "- Structural diversity\n",
    "- Selectivity (off-target effects)\n",
    "- Druglikeness and rule based filters (Day 3)\n",
    "- Specific requirement of the drug discovery programs\n",
    "\n",
    "#### In multi-objective optimization \n",
    "**Pareto front** is the set of all Pareto efficient solutions.\n",
    "\n",
    "<img src=\"figures/Pareto_Efficient_Frontier_1024x1024.png\" width=\"300\"/>\n"
   ]
  },
  {
   "cell_type": "code",
   "execution_count": null,
   "metadata": {},
   "outputs": [],
   "source": []
  },
  {
   "cell_type": "markdown",
   "metadata": {
    "vscode": {
     "languageId": "plaintext"
    }
   },
   "source": [
    "## Next one-hour session \n",
    "\n",
    "In this first lab, we will delve into the realm of virtual screening. Using datasets of 2D molecules, we will develop predictive models to assess inhibitory activity against a human kinase EGFR(Epidermal Growth Factor Receptor) protein. Building on concepts from lectures on molecular representation, scoring, and Graph Neural Networks (GNNs) for Chemistry, we will utilize `PyTorch`,`PyG`, `Scikit-learn`, and other libraries to create both GNN models and classical Random Forest models with molecular fingerprints. The ultimate objective is to screen a small commercial library and select **100** promising and **diverse** molecules with molecular weight between **280 and 400 Da** for further experimental investigation."
   ]
  },
  {
   "cell_type": "markdown",
   "metadata": {
    "vscode": {
     "languageId": "plaintext"
    }
   },
   "source": [
    "### Lab 1 target of interest: EGFR (Epidermal Growth Factor Receptor)\n",
    "\n",
    "The protein encoded by this gene is a transmembrane glycoprotein that is a member of the protein **kinase** superfamily. This protein is a receptor for members of the epidermal growth factor family. EGFR is a cell surface protein that binds to epidermal growth factor, thus inducing receptor dimerization and tyrosine autophosphorylation leading to cell proliferation. \n",
    "\n",
    "EGFR is a frequently over-expressed and aberrantly activated trans-membrane protein in non-small cell lung cancer (NSCLC) patients, described for the first time in 2004. Mutations in this gene are associated with lung cancer in particular."
   ]
  },
  {
   "cell_type": "markdown",
   "metadata": {},
   "source": [
    "#### Types of EGFR inhibitions:\n",
    "- competitive \n",
    "- covalent\n",
    "- allosteric"
   ]
  },
  {
   "attachments": {},
   "cell_type": "markdown",
   "metadata": {},
   "source": [
    "**Example of first generation EGFR inhibitor**\\\n",
    "<img src=\"figures/EGFR_ATP.png\" width=\"500\"/>\n"
   ]
  },
  {
   "cell_type": "markdown",
   "metadata": {},
   "source": [
    "### Hit discovery of novel EGFR inhibitors\n",
    "We have collected EGFR binding affinity dataset from public domain. Our project aims to leverage those publicly available data to identify more hits in the chemical space."
   ]
  },
  {
   "attachments": {},
   "cell_type": "markdown",
   "metadata": {},
   "source": [
    "### Targeted compound library\n",
    "\n",
    "In this tutorial, we will focus on identifying potential inhibitors that target the ATP-binding pocket of kinases. We will perform virtual screening against 24 000 compounds compounds from the [Hinge Binders Library](https://enamine.net/compound-libraries/targeted-libraries/kinase-library/hinge-binders-library), a commercial library specifically designed for discovering novel kinase ATP pocket binders. By utilizing this targeted library, we aim to efficiently identify promising candidates and prioritize our experimental resources on the most promising leads.\n",
    "\n",
    "<img src=\"figures/KINASE_HINGE_RDL_1.png\" width=\"500\"/>\n"
   ]
  },
  {
   "cell_type": "code",
   "execution_count": null,
   "metadata": {},
   "outputs": [],
   "source": []
  },
  {
   "cell_type": "markdown",
   "metadata": {
    "vscode": {
     "languageId": "plaintext"
    }
   },
   "source": [
    "## What we will focus for the next one hour?\n",
    "\n",
    "In this first lab, we will delve into the realm of virtual screening. Using datasets of 2D molecules, we will develop predictive models to assess inhibitory activity against a human kinase EGFR(Epidermal Growth Factor Receptor) protein. Building on concepts from lectures on molecular representation, scoring, and Graph Neural Networks (GNNs) for Chemistry, we will utilize `PyTorch`,`PyG`, `Scikit-learn`, and other libraries to create both GNN models and classical Random Forest models with molecular fingerprints. The ultimate objective is to screen a small commercial library and select **100** promising and **diverse** molecules with molecular weight between **280 and 400 Da** for further experimental investigation."
   ]
  },
  {
   "cell_type": "markdown",
   "metadata": {},
   "source": [
    "\n",
    "To run this tutorial, please ensure all dependencies below are installed. \n",
    "\n",
    "- `datamol`\n",
    "- `molfeat`\n",
    "- `splito`\n",
    "- `scikit-learn`\n",
    "- `pytorch`\n",
    "- `pyG`\n",
    "- `umap-learn`\n",
    "\n",
    "You can install those dependencies by \n",
    "```shell\n",
    "conda env create -f env.yml\n",
    "```"
   ]
  },
  {
   "cell_type": "markdown",
   "metadata": {},
   "source": [
    "# Questions?"
   ]
  },
  {
   "cell_type": "code",
   "execution_count": null,
   "metadata": {},
   "outputs": [],
   "source": []
  }
 ],
 "metadata": {
  "kernelspec": {
   "display_name": "Python 3 (ipykernel)",
   "language": "python",
   "name": "python3"
  },
  "language_info": {
   "codemirror_mode": {
    "name": "ipython",
    "version": 3
   },
   "file_extension": ".py",
   "mimetype": "text/x-python",
   "name": "python",
   "nbconvert_exporter": "python",
   "pygments_lexer": "ipython3",
   "version": "3.12.3"
  }
 },
 "nbformat": 4,
 "nbformat_minor": 4
}
