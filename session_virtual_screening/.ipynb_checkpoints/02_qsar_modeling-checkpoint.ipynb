{
 "cells": [
  {
   "cell_type": "markdown",
   "metadata": {},
   "source": [
    "To successfully apply ML, we need a data set of molecules and bioactivities, a molecular representation, and a ML algorithm to train a model. Then, we can make predictions for new molecules."
   ]
  },
  {
   "cell_type": "code",
   "execution_count": 10,
   "metadata": {},
   "outputs": [
    {
     "name": "stdout",
     "output_type": "stream",
     "text": [
      "The autoreload extension is already loaded. To reload it, use:\n",
      "  %reload_ext autoreload\n"
     ]
    }
   ],
   "source": [
    "%load_ext autoreload\n",
    "%autoreload 2\n",
    "    \n",
    "import pandas as pd\n",
    "import datamol as dm\n",
    "import numpy as np\n"
   ]
  },
  {
   "cell_type": "markdown",
   "metadata": {},
   "source": [
    "## Load compound and activity data\n",
    "\n",
    "Let’s start by loading our data. The csv file is loaded into a dataframe with the important columns:\n",
    "\n",
    "- `MOL_smiles`: SMILES string of the corresponding compound.\n",
    "\n",
    "- `pIC50`: Measured inhibition affinity. The negative log of the IC50 value."
   ]
  },
  {
   "cell_type": "code",
   "execution_count": 18,
   "metadata": {},
   "outputs": [],
   "source": [
    "data = pd.read_csv(\"data/egfr_pIC50.csv\")\n",
    "mol_col = \"MOL_smiles\"\n",
    "data_col = \"pIC50\""
   ]
  },
  {
   "cell_type": "code",
   "execution_count": 19,
   "metadata": {},
   "outputs": [
    {
     "name": "stdout",
     "output_type": "stream",
     "text": [
      "Shape of dataframe :  (5145, 15)\n"
     ]
    },
    {
     "data": {
      "text/html": [
       "<div>\n",
       "<style scoped>\n",
       "    .dataframe tbody tr th:only-of-type {\n",
       "        vertical-align: middle;\n",
       "    }\n",
       "\n",
       "    .dataframe tbody tr th {\n",
       "        vertical-align: top;\n",
       "    }\n",
       "\n",
       "    .dataframe thead th {\n",
       "        text-align: right;\n",
       "    }\n",
       "</style>\n",
       "<table border=\"1\" class=\"dataframe\">\n",
       "  <thead>\n",
       "    <tr style=\"text-align: right;\">\n",
       "      <th></th>\n",
       "      <th>Ambit_InchiKey</th>\n",
       "      <th>Original_Entry_ID</th>\n",
       "      <th>Entrez_ID</th>\n",
       "      <th>Activity_Flag</th>\n",
       "      <th>pIC50</th>\n",
       "      <th>DB</th>\n",
       "      <th>Original_Assay_ID</th>\n",
       "      <th>Tax_ID</th>\n",
       "      <th>Gene_Symbol</th>\n",
       "      <th>Ortholog_Group</th>\n",
       "      <th>InChI</th>\n",
       "      <th>SMILES</th>\n",
       "      <th>updated</th>\n",
       "      <th>MOL_smiles</th>\n",
       "      <th>unique_id</th>\n",
       "    </tr>\n",
       "  </thead>\n",
       "  <tbody>\n",
       "    <tr>\n",
       "      <th>0</th>\n",
       "      <td>AAAAZQPHATYWOK-YRBRRWAQNA-N</td>\n",
       "      <td>CHEMBL175513</td>\n",
       "      <td>1956</td>\n",
       "      <td>A</td>\n",
       "      <td>6.73000</td>\n",
       "      <td>chembl20</td>\n",
       "      <td>312997</td>\n",
       "      <td>9606</td>\n",
       "      <td>EGFR</td>\n",
       "      <td>1260</td>\n",
       "      <td>InChI=1/C32H29ClN6O3S/c1-4-41-28-16-25-22(15-2...</td>\n",
       "      <td>C1=2C(=C(C#N)C=NC1=CC(=C(C2)NC(/C=C/CN(C)C)=O)...</td>\n",
       "      <td>NaN</td>\n",
       "      <td>CCOc1cc2ncc(C#N)c(Nc3ccc(OCc4nc5ccccc5s4)c(Cl)...</td>\n",
       "      <td>e20a75a5e83123c7b26f8eb4cda6315611bda442</td>\n",
       "    </tr>\n",
       "    <tr>\n",
       "      <th>1</th>\n",
       "      <td>AAALVYBICLMAMA-MPIMZMORNA-N</td>\n",
       "      <td>CHEMBL268868</td>\n",
       "      <td>1956</td>\n",
       "      <td>A</td>\n",
       "      <td>6.80000</td>\n",
       "      <td>chembl20</td>\n",
       "      <td>29499</td>\n",
       "      <td>9606</td>\n",
       "      <td>EGFR</td>\n",
       "      <td>1260</td>\n",
       "      <td>InChI=1/C20H15N3O2/c24-19-15-11-17(21-13-7-3-1...</td>\n",
       "      <td>C=1C=C(NC2=C(NC3=CC=CC=C3)C=C4C(NC(C4=C2)=O)=O...</td>\n",
       "      <td>NaN</td>\n",
       "      <td>O=C1NC(=O)c2cc(Nc3ccccc3)c(Nc3ccccc3)cc21</td>\n",
       "      <td>6cd7ab48e50c5e2f499850b11b4e9765b80f28f4</td>\n",
       "    </tr>\n",
       "    <tr>\n",
       "      <th>2</th>\n",
       "      <td>AABTVDZTFBSBKN-UHFFFAOYNA-N</td>\n",
       "      <td>44416433</td>\n",
       "      <td>1956</td>\n",
       "      <td>A</td>\n",
       "      <td>5.92082</td>\n",
       "      <td>pubchem</td>\n",
       "      <td>271215</td>\n",
       "      <td>9606</td>\n",
       "      <td>EGFR</td>\n",
       "      <td>1260</td>\n",
       "      <td>InChI=1/C20H18BrN3O4/c1-24-10-12-7-16(25-2)17(...</td>\n",
       "      <td>BrC=1C=C(OC2=NC=NC=3OC=4C(CN(C32)C)=CC(OC)=C(O...</td>\n",
       "      <td>NaN</td>\n",
       "      <td>COc1cc2c(cc1OC)Oc1ncnc(Oc3cccc(Br)c3)c1N(C)C2</td>\n",
       "      <td>4cdd2dd38339366c66c2fba69fc26debf6558221</td>\n",
       "    </tr>\n",
       "    <tr>\n",
       "      <th>3</th>\n",
       "      <td>AAGKMGNYUYCEPD-HIVOMVAKNA-N</td>\n",
       "      <td>CHEMBL2048906</td>\n",
       "      <td>1956</td>\n",
       "      <td>A</td>\n",
       "      <td>8.54000</td>\n",
       "      <td>chembl20</td>\n",
       "      <td>827250</td>\n",
       "      <td>9606</td>\n",
       "      <td>EGFR</td>\n",
       "      <td>1260</td>\n",
       "      <td>InChI=1/C23H19ClN6O2S/c1-14(31)25-8-10-30-9-7-...</td>\n",
       "      <td>C(C)(=O)NCCN1C=CC2=NC=NC(=C21)NC=3C=C(C(=CC3)O...</td>\n",
       "      <td>NaN</td>\n",
       "      <td>CC(=O)NCCn1ccc2ncnc(Nc3ccc(Oc4cccc5sncc45)c(Cl...</td>\n",
       "      <td>1c08521ee2742402d71148c520ff92857f606ce1</td>\n",
       "    </tr>\n",
       "    <tr>\n",
       "      <th>4</th>\n",
       "      <td>AAHKGRWRYBCWDL-HPHMPNDVNA-N</td>\n",
       "      <td>CHEMBL1240554</td>\n",
       "      <td>1956</td>\n",
       "      <td>A</td>\n",
       "      <td>5.85000</td>\n",
       "      <td>chembl20</td>\n",
       "      <td>654933</td>\n",
       "      <td>9606</td>\n",
       "      <td>EGFR</td>\n",
       "      <td>1260</td>\n",
       "      <td>InChI=1/C19H23N5O2/c1-3-26-14-9-8-12(10-15(14)...</td>\n",
       "      <td>N1=CN=C2N(N=C(C=3C=CC(=C(OC)C3)OCC)C2=C1N)C4CCCC4</td>\n",
       "      <td>NaN</td>\n",
       "      <td>CCOc1ccc(-c2nn(C3CCCC3)c3ncnc(N)c23)cc1OC</td>\n",
       "      <td>a02a3767c7bcce175a3b3fbdc25aee464aacdf20</td>\n",
       "    </tr>\n",
       "  </tbody>\n",
       "</table>\n",
       "</div>"
      ],
      "text/plain": [
       "                Ambit_InchiKey Original_Entry_ID  Entrez_ID Activity_Flag  \\\n",
       "0  AAAAZQPHATYWOK-YRBRRWAQNA-N      CHEMBL175513       1956             A   \n",
       "1  AAALVYBICLMAMA-MPIMZMORNA-N      CHEMBL268868       1956             A   \n",
       "2  AABTVDZTFBSBKN-UHFFFAOYNA-N          44416433       1956             A   \n",
       "3  AAGKMGNYUYCEPD-HIVOMVAKNA-N     CHEMBL2048906       1956             A   \n",
       "4  AAHKGRWRYBCWDL-HPHMPNDVNA-N     CHEMBL1240554       1956             A   \n",
       "\n",
       "     pIC50        DB  Original_Assay_ID  Tax_ID Gene_Symbol  Ortholog_Group  \\\n",
       "0  6.73000  chembl20             312997    9606        EGFR            1260   \n",
       "1  6.80000  chembl20              29499    9606        EGFR            1260   \n",
       "2  5.92082   pubchem             271215    9606        EGFR            1260   \n",
       "3  8.54000  chembl20             827250    9606        EGFR            1260   \n",
       "4  5.85000  chembl20             654933    9606        EGFR            1260   \n",
       "\n",
       "                                               InChI  \\\n",
       "0  InChI=1/C32H29ClN6O3S/c1-4-41-28-16-25-22(15-2...   \n",
       "1  InChI=1/C20H15N3O2/c24-19-15-11-17(21-13-7-3-1...   \n",
       "2  InChI=1/C20H18BrN3O4/c1-24-10-12-7-16(25-2)17(...   \n",
       "3  InChI=1/C23H19ClN6O2S/c1-14(31)25-8-10-30-9-7-...   \n",
       "4  InChI=1/C19H23N5O2/c1-3-26-14-9-8-12(10-15(14)...   \n",
       "\n",
       "                                              SMILES updated  \\\n",
       "0  C1=2C(=C(C#N)C=NC1=CC(=C(C2)NC(/C=C/CN(C)C)=O)...     NaN   \n",
       "1  C=1C=C(NC2=C(NC3=CC=CC=C3)C=C4C(NC(C4=C2)=O)=O...     NaN   \n",
       "2  BrC=1C=C(OC2=NC=NC=3OC=4C(CN(C32)C)=CC(OC)=C(O...     NaN   \n",
       "3  C(C)(=O)NCCN1C=CC2=NC=NC(=C21)NC=3C=C(C(=CC3)O...     NaN   \n",
       "4  N1=CN=C2N(N=C(C=3C=CC(=C(OC)C3)OCC)C2=C1N)C4CCCC4     NaN   \n",
       "\n",
       "                                          MOL_smiles  \\\n",
       "0  CCOc1cc2ncc(C#N)c(Nc3ccc(OCc4nc5ccccc5s4)c(Cl)...   \n",
       "1          O=C1NC(=O)c2cc(Nc3ccccc3)c(Nc3ccccc3)cc21   \n",
       "2      COc1cc2c(cc1OC)Oc1ncnc(Oc3cccc(Br)c3)c1N(C)C2   \n",
       "3  CC(=O)NCCn1ccc2ncnc(Nc3ccc(Oc4cccc5sncc45)c(Cl...   \n",
       "4          CCOc1ccc(-c2nn(C3CCCC3)c3ncnc(N)c23)cc1OC   \n",
       "\n",
       "                                  unique_id  \n",
       "0  e20a75a5e83123c7b26f8eb4cda6315611bda442  \n",
       "1  6cd7ab48e50c5e2f499850b11b4e9765b80f28f4  \n",
       "2  4cdd2dd38339366c66c2fba69fc26debf6558221  \n",
       "3  1c08521ee2742402d71148c520ff92857f606ce1  \n",
       "4  a02a3767c7bcce175a3b3fbdc25aee464aacdf20  "
      ]
     },
     "execution_count": 19,
     "metadata": {},
     "output_type": "execute_result"
    }
   ],
   "source": [
    "# Look at head\n",
    "print(\"Shape of dataframe : \", data.shape)\n",
    "data.head()"
   ]
  },
  {
   "cell_type": "markdown",
   "metadata": {},
   "source": [
    "## For ML, molecules need to be converted into a list of features/representation.\n",
    "\n",
    "In this tutorial, we will focus on **Fingerprint** and **Molecular Graph**."
   ]
  },
  {
   "cell_type": "markdown",
   "metadata": {},
   "source": [
    "### Morgan fingerprints ECFP\n",
    "Extended-Connectivity Fingerprints (ECFPs) are circular topological fingerprints designed for molecular characterization, similarity searching, and structure-activity modeling. We use the implementation from RDKit which is called Morgan fingerprint.\n",
    "\n",
    "The two most important parameters of these fingerprints are the `radius` and `fingerprint length`. The first specifies the radius of circular neighborhoods considered for each atom. Here two radis are considered: 2 and 3. The length parameter specifies the length to which the bit string representation is hashed. The default length is 2048.\n",
    "\n",
    " This implementation is avalaible in [molfeat](https://molfeat.datamol.io/), which is a hub for all molecular featurizers."
   ]
  },
  {
   "cell_type": "code",
   "execution_count": 25,
   "metadata": {},
   "outputs": [],
   "source": [
    "from molfeat.trans.fp import FPVecTransformer\n",
    "\n",
    "fp_transformer = FPVecTransformer(kind='ecfp:4', length=2048)\n",
    "features =fp_transformer(data[mol_col].values)\n",
    "\n",
    "# or use `datamol.to_fp`\n",
    "# features =np.stack(dm.parallelized(fn=dm.to_fp, inputs_list=egfr[mol_col].values, progress=True))\n",
    "\n",
    "activities = data[data_col].values"
   ]
  },
  {
   "cell_type": "code",
   "execution_count": null,
   "metadata": {},
   "outputs": [],
   "source": [
    "# show datafram first rows"
   ]
  },
  {
   "cell_type": "markdown",
   "metadata": {},
   "source": [
    "Use those molecular fingerprints as features as the inputs for ML model.\n",
    "\n",
    "<img src=\"figures/fp_ml.png\" width=\"300\"/>"
   ]
  },
  {
   "cell_type": "code",
   "execution_count": null,
   "metadata": {},
   "outputs": [],
   "source": []
  },
  {
   "cell_type": "markdown",
   "metadata": {},
   "source": [
    "###  Molecular graph"
   ]
  },
  {
   "cell_type": "markdown",
   "metadata": {},
   "source": [
    "<img src=\"figures/graph.png\" width=\"500\"/>"
   ]
  },
  {
   "cell_type": "code",
   "execution_count": 28,
   "metadata": {},
   "outputs": [
    {
     "data": {
      "application/vnd.jupyter.widget-view+json": {
       "model_id": "e763e8bf5c2f4ee48ed3e101e9668107",
       "version_major": 2,
       "version_minor": 0
      },
      "text/plain": [
       "  0%|          | 0/5145 [00:00<?, ?it/s]"
      ]
     },
     "metadata": {},
     "output_type": "display_data"
    }
   ],
   "source": [
    "### Process smiles into `torch_geometric.Data` objects\n",
    "from molfeat.trans.graph.adj import PYGGraphTransformer\n",
    "\n",
    "# convert smiles to Rdkit.Mol object\n",
    "mols = dm.parallelized(fn=dm.to_mol, inputs_list=egfr[mol_col], progress=True)\n",
    "\n",
    "# conver Rdkit.Mol object to `torch_geometric.Data` object\n",
    "transformer = PYGGraphTransformer()\n",
    "pyg_features = transformer(mols)"
   ]
  },
  {
   "cell_type": "code",
   "execution_count": 30,
   "metadata": {},
   "outputs": [
    {
     "data": {
      "text/plain": [
       "Data(x=[43, 82], edge_index=[2, 94])"
      ]
     },
     "execution_count": 30,
     "metadata": {},
     "output_type": "execute_result"
    }
   ],
   "source": [
    "#### Molecular graph example\n",
    "pyg_mol = pyg_features[0]\n",
    "pyg_mol"
   ]
  },
  {
   "cell_type": "code",
   "execution_count": 32,
   "metadata": {},
   "outputs": [
    {
     "data": {
      "text/plain": [
       "tensor([[[0., 1., 0.,  ..., 0., 0., 0.],\n",
       "         [1., 0., 1.,  ..., 0., 0., 0.],\n",
       "         [0., 1., 0.,  ..., 0., 0., 0.],\n",
       "         ...,\n",
       "         [0., 0., 0.,  ..., 0., 1., 1.],\n",
       "         [0., 0., 0.,  ..., 1., 0., 0.],\n",
       "         [0., 0., 0.,  ..., 1., 0., 0.]]])"
      ]
     },
     "execution_count": 32,
     "metadata": {},
     "output_type": "execute_result"
    }
   ],
   "source": [
    "# Visualize the adjacent matrix of the graph\n",
    "from torch_geometric.utils import to_dense_adj\n",
    "\n",
    "# convert the graph object to adjacent matrix for visualization\n",
    "to_dense_adj(pyg_mol.edge_index)"
   ]
  },
  {
   "cell_type": "markdown",
   "metadata": {},
   "source": [
    "We can use pyg graph object as input for GNN modeling for inhibition prediction."
   ]
  },
  {
   "cell_type": "code",
   "execution_count": null,
   "metadata": {},
   "outputs": [],
   "source": []
  },
  {
   "cell_type": "markdown",
   "metadata": {},
   "source": [
    "## Machine learning (ML)\n",
    "With the increasing availability of extensive data sources, **machine learning (ML)** has gained significant momentum in drug discovery, particularly in ligand-based virtual screening. In this session, we will explore how to utilize ML algorithms to predict the inhibition activity of novel compounds against our target of interest EGFR."
   ]
  },
  {
   "cell_type": "markdown",
   "metadata": {},
   "source": [
    "### ML can be applied for \n",
    "\n",
    "**Supervised**: A learning algorithm creates rules by finding patterns in the training data.\n",
    "- Classification : Identify which category an object belongs to (e.g. : Nearest neighbors, Naive Bayes, RF, SVM, …)\n",
    "- Regression: Prediction of a continuous-values attribute associated with an object.\n",
    "\n",
    "**unsupervised**\n",
    "- Clustering : Automated grouping of similar objects into sets.\n"
   ]
  },
  {
   "attachments": {},
   "cell_type": "markdown",
   "metadata": {},
   "source": [
    "In the following, we will try several supervised ML approaches to classify our molecules.\n",
    "\n",
    "- **Random Forest (RF)**: Ensemble of decision trees. A single decision tree splits the features of the input vector in a way that maximizes an objective function. In the random forest algorithm, the trees that are grown are de-correlated because the choice of features for the splits are chosen randomly.\n",
    "\n",
    "<img src=\"figures/randomforest.png\" width=\"600\"/>\n",
    "\n",
    "\n",
    "- **Graph neural network(GNN)**: A category of deep neural networks whose inputs are graphs and provide a way around the choice of descriptors. A GNN can take a molecule directly as input. GNNs are specific layers that input a graph and output a graph.\n",
    "    \n",
    "<img src=\"figures/gnn_ml.png\" width=\"800\"/>\n",
    "\n",
    "<!-- <p style=\"color:sliver\">Ref: https://github.com/chaitjo/geometric-gnn-dojo/blob/main/geometric_gnn_101.ipynb</p> -->\n"
   ]
  },
  {
   "cell_type": "code",
   "execution_count": null,
   "metadata": {},
   "outputs": [],
   "source": []
  },
  {
   "cell_type": "markdown",
   "metadata": {},
   "source": [
    "## Model training\n",
    "\n",
    "The goal is to test the ability of the model to predict data which it has never seen before in order to flag problems known as over fitting and to assess the generalization ability of the model.\n",
    "\n",
    "We start by defining a function model_performance which evaluate a model on a **random train-test split** of the data and returns measures such as `mean_squared_error`, `pearsonr`and `spearmanr` evaluated on the heldout test set. We also plot the scatter plot of the true bioactivity and predictions with a linear regression model fit."
   ]
  },
  {
   "cell_type": "code",
   "execution_count": null,
   "metadata": {},
   "outputs": [],
   "source": [
    "# "
   ]
  },
  {
   "cell_type": "code",
   "execution_count": 48,
   "metadata": {},
   "outputs": [],
   "source": [
    "from sklearn.metrics import mean_squared_error\n",
    "from matplotlib import pyplot as plt\n",
    "from scipy import stats\n",
    "import torch\n",
    "from loguru import logger\n",
    "import seaborn as sns\n",
    "\n",
    "from sklearn.ensemble import RandomForestRegressor"
   ]
  },
  {
   "cell_type": "code",
   "execution_count": 55,
   "metadata": {},
   "outputs": [],
   "source": [
    "\n",
    "def pearsonr(y_true: np.ndarray, y_pred: np.ndarray):\n",
    "    \"\"\"Calculate a pearson r correlation\"\"\"\n",
    "    return stats.pearsonr(y_true, y_pred).statistic\n",
    "\n",
    "\n",
    "def spearman(y_true: np.ndarray, y_pred: np.ndarray):\n",
    "    \"\"\"Calculate a Spearman correlation\"\"\"\n",
    "    return stats.spearmanr(y_true, y_pred).statistic\n",
    "\n",
    "\n",
    "def model_performance(ml_model, test_x, test_y, verbose=True):\n",
    "    \"\"\"\n",
    "    Helper function to calculate model performance\n",
    "\n",
    "    Args\n",
    "    ----------\n",
    "    ml_model: model object\n",
    "        The machine learning model to train.\n",
    "    test_x: list\n",
    "        Molecular fingerprints for test set.\n",
    "    test_y: list\n",
    "        Associated activity labels for test set.\n",
    "    verbose: bool\n",
    "        Print performance measure (default = True)\n",
    "\n",
    "    Returns\n",
    "    -------\n",
    "    tuple:\n",
    "        MSE, Pearson R, Spearman on test set.\n",
    "    \"\"\"\n",
    "\n",
    "    # Prediction class on test \n",
    "    if isinstance(ml_model, RandomForestRegressor):\n",
    "        test_pred = ml_model.predict(test_x)\n",
    "    else:\n",
    "        test_pred = torch.cat([ml_model.predict(x) for x in test_x]).numpy().flatten()\n",
    "\n",
    "    # Performance of model on test set\n",
    "    mse = mean_squared_error(test_y, test_pred)\n",
    "\n",
    "    pearsonr_score = pearsonr(test_y, test_pred)\n",
    "    \n",
    "    spearman_score = spearman(test_y, test_pred)\n",
    "\n",
    "\n",
    "    if verbose:\n",
    "        # Print performance results\n",
    "        logger.info(f\"mean_squared_error: {mse:.2f}\")\n",
    "        logger.info(f\"pearson r: {pearsonr_score:.2f}\")\n",
    "        logger.info(f\"spearman: {spearman_score:.2f}\")\n",
    "\n",
    "    plot_df = pd.DataFrame({\"y_true\": test_y, \"y_pred\": test_pred})\n",
    "    sns.set_style(\"whitegrid\")\n",
    "    fig = sns.regplot(data=plot_df, x=\"y_true\", y=\"y_pred\")\n",
    "    \n",
    "    return mse, pearsonr_score, spearman_score, fig\n"
   ]
  },
  {
   "cell_type": "markdown",
   "metadata": {},
   "source": [
    "#### Data splitting\n",
    "Let's create split data **randomly** into train and test set. \\\n",
    "The splits will be shared with all the models. "
   ]
  },
  {
   "cell_type": "code",
   "execution_count": 36,
   "metadata": {},
   "outputs": [
    {
     "name": "stdout",
     "output_type": "stream",
     "text": [
      "Training data size: 4116\n",
      "Test data size: 1029\n"
     ]
    }
   ],
   "source": [
    "from sklearn.model_selection import ShuffleSplit\n",
    "\n",
    "spliter = ShuffleSplit(n_splits=5, test_size=.2, random_state=111)\n",
    "train_index, test_index = next(spliter.split(activities))\n",
    "\n",
    "print(\"Training data size:\", len(train_index))\n",
    "print(\"Test data size:\", len(test_index))"
   ]
  },
  {
   "cell_type": "markdown",
   "metadata": {},
   "source": [
    "#### Random forest regressor"
   ]
  },
  {
   "cell_type": "code",
   "execution_count": 39,
   "metadata": {},
   "outputs": [
    {
     "name": "stdout",
     "output_type": "stream",
     "text": [
      "Training set data shape: (4116, 2048)\n"
     ]
    }
   ],
   "source": [
    "# Get the features and bioactivities of the training set\n",
    "train_x, train_y = features[train_index], activities[train_index]\n",
    "\n",
    "print(\"Training set data shape:\", train_x.shape)"
   ]
  },
  {
   "cell_type": "code",
   "execution_count": 50,
   "metadata": {},
   "outputs": [],
   "source": [
    "# Define a model and train\n",
    "from sklearn.ensemble import RandomForestRegressor\n",
    "\n",
    "# Set model parameter for random forest\n",
    "rf_param = {\n",
    "    \"n_estimators\": 100,  # number of trees to grows\n",
    "    \"criterion\": \"squared_error\",  # cost function to be optimized for a split\n",
    "}\n",
    "\n",
    "RF_model = RandomForestRegressor(**rf_param)"
   ]
  },
  {
   "cell_type": "code",
   "execution_count": 51,
   "metadata": {},
   "outputs": [
    {
     "data": {
      "text/html": [
       "<style>#sk-container-id-2 {\n",
       "  /* Definition of color scheme common for light and dark mode */\n",
       "  --sklearn-color-text: black;\n",
       "  --sklearn-color-line: gray;\n",
       "  /* Definition of color scheme for unfitted estimators */\n",
       "  --sklearn-color-unfitted-level-0: #fff5e6;\n",
       "  --sklearn-color-unfitted-level-1: #f6e4d2;\n",
       "  --sklearn-color-unfitted-level-2: #ffe0b3;\n",
       "  --sklearn-color-unfitted-level-3: chocolate;\n",
       "  /* Definition of color scheme for fitted estimators */\n",
       "  --sklearn-color-fitted-level-0: #f0f8ff;\n",
       "  --sklearn-color-fitted-level-1: #d4ebff;\n",
       "  --sklearn-color-fitted-level-2: #b3dbfd;\n",
       "  --sklearn-color-fitted-level-3: cornflowerblue;\n",
       "\n",
       "  /* Specific color for light theme */\n",
       "  --sklearn-color-text-on-default-background: var(--sg-text-color, var(--theme-code-foreground, var(--jp-content-font-color1, black)));\n",
       "  --sklearn-color-background: var(--sg-background-color, var(--theme-background, var(--jp-layout-color0, white)));\n",
       "  --sklearn-color-border-box: var(--sg-text-color, var(--theme-code-foreground, var(--jp-content-font-color1, black)));\n",
       "  --sklearn-color-icon: #696969;\n",
       "\n",
       "  @media (prefers-color-scheme: dark) {\n",
       "    /* Redefinition of color scheme for dark theme */\n",
       "    --sklearn-color-text-on-default-background: var(--sg-text-color, var(--theme-code-foreground, var(--jp-content-font-color1, white)));\n",
       "    --sklearn-color-background: var(--sg-background-color, var(--theme-background, var(--jp-layout-color0, #111)));\n",
       "    --sklearn-color-border-box: var(--sg-text-color, var(--theme-code-foreground, var(--jp-content-font-color1, white)));\n",
       "    --sklearn-color-icon: #878787;\n",
       "  }\n",
       "}\n",
       "\n",
       "#sk-container-id-2 {\n",
       "  color: var(--sklearn-color-text);\n",
       "}\n",
       "\n",
       "#sk-container-id-2 pre {\n",
       "  padding: 0;\n",
       "}\n",
       "\n",
       "#sk-container-id-2 input.sk-hidden--visually {\n",
       "  border: 0;\n",
       "  clip: rect(1px 1px 1px 1px);\n",
       "  clip: rect(1px, 1px, 1px, 1px);\n",
       "  height: 1px;\n",
       "  margin: -1px;\n",
       "  overflow: hidden;\n",
       "  padding: 0;\n",
       "  position: absolute;\n",
       "  width: 1px;\n",
       "}\n",
       "\n",
       "#sk-container-id-2 div.sk-dashed-wrapped {\n",
       "  border: 1px dashed var(--sklearn-color-line);\n",
       "  margin: 0 0.4em 0.5em 0.4em;\n",
       "  box-sizing: border-box;\n",
       "  padding-bottom: 0.4em;\n",
       "  background-color: var(--sklearn-color-background);\n",
       "}\n",
       "\n",
       "#sk-container-id-2 div.sk-container {\n",
       "  /* jupyter's `normalize.less` sets `[hidden] { display: none; }`\n",
       "     but bootstrap.min.css set `[hidden] { display: none !important; }`\n",
       "     so we also need the `!important` here to be able to override the\n",
       "     default hidden behavior on the sphinx rendered scikit-learn.org.\n",
       "     See: https://github.com/scikit-learn/scikit-learn/issues/21755 */\n",
       "  display: inline-block !important;\n",
       "  position: relative;\n",
       "}\n",
       "\n",
       "#sk-container-id-2 div.sk-text-repr-fallback {\n",
       "  display: none;\n",
       "}\n",
       "\n",
       "div.sk-parallel-item,\n",
       "div.sk-serial,\n",
       "div.sk-item {\n",
       "  /* draw centered vertical line to link estimators */\n",
       "  background-image: linear-gradient(var(--sklearn-color-text-on-default-background), var(--sklearn-color-text-on-default-background));\n",
       "  background-size: 2px 100%;\n",
       "  background-repeat: no-repeat;\n",
       "  background-position: center center;\n",
       "}\n",
       "\n",
       "/* Parallel-specific style estimator block */\n",
       "\n",
       "#sk-container-id-2 div.sk-parallel-item::after {\n",
       "  content: \"\";\n",
       "  width: 100%;\n",
       "  border-bottom: 2px solid var(--sklearn-color-text-on-default-background);\n",
       "  flex-grow: 1;\n",
       "}\n",
       "\n",
       "#sk-container-id-2 div.sk-parallel {\n",
       "  display: flex;\n",
       "  align-items: stretch;\n",
       "  justify-content: center;\n",
       "  background-color: var(--sklearn-color-background);\n",
       "  position: relative;\n",
       "}\n",
       "\n",
       "#sk-container-id-2 div.sk-parallel-item {\n",
       "  display: flex;\n",
       "  flex-direction: column;\n",
       "}\n",
       "\n",
       "#sk-container-id-2 div.sk-parallel-item:first-child::after {\n",
       "  align-self: flex-end;\n",
       "  width: 50%;\n",
       "}\n",
       "\n",
       "#sk-container-id-2 div.sk-parallel-item:last-child::after {\n",
       "  align-self: flex-start;\n",
       "  width: 50%;\n",
       "}\n",
       "\n",
       "#sk-container-id-2 div.sk-parallel-item:only-child::after {\n",
       "  width: 0;\n",
       "}\n",
       "\n",
       "/* Serial-specific style estimator block */\n",
       "\n",
       "#sk-container-id-2 div.sk-serial {\n",
       "  display: flex;\n",
       "  flex-direction: column;\n",
       "  align-items: center;\n",
       "  background-color: var(--sklearn-color-background);\n",
       "  padding-right: 1em;\n",
       "  padding-left: 1em;\n",
       "}\n",
       "\n",
       "\n",
       "/* Toggleable style: style used for estimator/Pipeline/ColumnTransformer box that is\n",
       "clickable and can be expanded/collapsed.\n",
       "- Pipeline and ColumnTransformer use this feature and define the default style\n",
       "- Estimators will overwrite some part of the style using the `sk-estimator` class\n",
       "*/\n",
       "\n",
       "/* Pipeline and ColumnTransformer style (default) */\n",
       "\n",
       "#sk-container-id-2 div.sk-toggleable {\n",
       "  /* Default theme specific background. It is overwritten whether we have a\n",
       "  specific estimator or a Pipeline/ColumnTransformer */\n",
       "  background-color: var(--sklearn-color-background);\n",
       "}\n",
       "\n",
       "/* Toggleable label */\n",
       "#sk-container-id-2 label.sk-toggleable__label {\n",
       "  cursor: pointer;\n",
       "  display: block;\n",
       "  width: 100%;\n",
       "  margin-bottom: 0;\n",
       "  padding: 0.5em;\n",
       "  box-sizing: border-box;\n",
       "  text-align: center;\n",
       "}\n",
       "\n",
       "#sk-container-id-2 label.sk-toggleable__label-arrow:before {\n",
       "  /* Arrow on the left of the label */\n",
       "  content: \"▸\";\n",
       "  float: left;\n",
       "  margin-right: 0.25em;\n",
       "  color: var(--sklearn-color-icon);\n",
       "}\n",
       "\n",
       "#sk-container-id-2 label.sk-toggleable__label-arrow:hover:before {\n",
       "  color: var(--sklearn-color-text);\n",
       "}\n",
       "\n",
       "/* Toggleable content - dropdown */\n",
       "\n",
       "#sk-container-id-2 div.sk-toggleable__content {\n",
       "  max-height: 0;\n",
       "  max-width: 0;\n",
       "  overflow: hidden;\n",
       "  text-align: left;\n",
       "  /* unfitted */\n",
       "  background-color: var(--sklearn-color-unfitted-level-0);\n",
       "}\n",
       "\n",
       "#sk-container-id-2 div.sk-toggleable__content.fitted {\n",
       "  /* fitted */\n",
       "  background-color: var(--sklearn-color-fitted-level-0);\n",
       "}\n",
       "\n",
       "#sk-container-id-2 div.sk-toggleable__content pre {\n",
       "  margin: 0.2em;\n",
       "  border-radius: 0.25em;\n",
       "  color: var(--sklearn-color-text);\n",
       "  /* unfitted */\n",
       "  background-color: var(--sklearn-color-unfitted-level-0);\n",
       "}\n",
       "\n",
       "#sk-container-id-2 div.sk-toggleable__content.fitted pre {\n",
       "  /* unfitted */\n",
       "  background-color: var(--sklearn-color-fitted-level-0);\n",
       "}\n",
       "\n",
       "#sk-container-id-2 input.sk-toggleable__control:checked~div.sk-toggleable__content {\n",
       "  /* Expand drop-down */\n",
       "  max-height: 200px;\n",
       "  max-width: 100%;\n",
       "  overflow: auto;\n",
       "}\n",
       "\n",
       "#sk-container-id-2 input.sk-toggleable__control:checked~label.sk-toggleable__label-arrow:before {\n",
       "  content: \"▾\";\n",
       "}\n",
       "\n",
       "/* Pipeline/ColumnTransformer-specific style */\n",
       "\n",
       "#sk-container-id-2 div.sk-label input.sk-toggleable__control:checked~label.sk-toggleable__label {\n",
       "  color: var(--sklearn-color-text);\n",
       "  background-color: var(--sklearn-color-unfitted-level-2);\n",
       "}\n",
       "\n",
       "#sk-container-id-2 div.sk-label.fitted input.sk-toggleable__control:checked~label.sk-toggleable__label {\n",
       "  background-color: var(--sklearn-color-fitted-level-2);\n",
       "}\n",
       "\n",
       "/* Estimator-specific style */\n",
       "\n",
       "/* Colorize estimator box */\n",
       "#sk-container-id-2 div.sk-estimator input.sk-toggleable__control:checked~label.sk-toggleable__label {\n",
       "  /* unfitted */\n",
       "  background-color: var(--sklearn-color-unfitted-level-2);\n",
       "}\n",
       "\n",
       "#sk-container-id-2 div.sk-estimator.fitted input.sk-toggleable__control:checked~label.sk-toggleable__label {\n",
       "  /* fitted */\n",
       "  background-color: var(--sklearn-color-fitted-level-2);\n",
       "}\n",
       "\n",
       "#sk-container-id-2 div.sk-label label.sk-toggleable__label,\n",
       "#sk-container-id-2 div.sk-label label {\n",
       "  /* The background is the default theme color */\n",
       "  color: var(--sklearn-color-text-on-default-background);\n",
       "}\n",
       "\n",
       "/* On hover, darken the color of the background */\n",
       "#sk-container-id-2 div.sk-label:hover label.sk-toggleable__label {\n",
       "  color: var(--sklearn-color-text);\n",
       "  background-color: var(--sklearn-color-unfitted-level-2);\n",
       "}\n",
       "\n",
       "/* Label box, darken color on hover, fitted */\n",
       "#sk-container-id-2 div.sk-label.fitted:hover label.sk-toggleable__label.fitted {\n",
       "  color: var(--sklearn-color-text);\n",
       "  background-color: var(--sklearn-color-fitted-level-2);\n",
       "}\n",
       "\n",
       "/* Estimator label */\n",
       "\n",
       "#sk-container-id-2 div.sk-label label {\n",
       "  font-family: monospace;\n",
       "  font-weight: bold;\n",
       "  display: inline-block;\n",
       "  line-height: 1.2em;\n",
       "}\n",
       "\n",
       "#sk-container-id-2 div.sk-label-container {\n",
       "  text-align: center;\n",
       "}\n",
       "\n",
       "/* Estimator-specific */\n",
       "#sk-container-id-2 div.sk-estimator {\n",
       "  font-family: monospace;\n",
       "  border: 1px dotted var(--sklearn-color-border-box);\n",
       "  border-radius: 0.25em;\n",
       "  box-sizing: border-box;\n",
       "  margin-bottom: 0.5em;\n",
       "  /* unfitted */\n",
       "  background-color: var(--sklearn-color-unfitted-level-0);\n",
       "}\n",
       "\n",
       "#sk-container-id-2 div.sk-estimator.fitted {\n",
       "  /* fitted */\n",
       "  background-color: var(--sklearn-color-fitted-level-0);\n",
       "}\n",
       "\n",
       "/* on hover */\n",
       "#sk-container-id-2 div.sk-estimator:hover {\n",
       "  /* unfitted */\n",
       "  background-color: var(--sklearn-color-unfitted-level-2);\n",
       "}\n",
       "\n",
       "#sk-container-id-2 div.sk-estimator.fitted:hover {\n",
       "  /* fitted */\n",
       "  background-color: var(--sklearn-color-fitted-level-2);\n",
       "}\n",
       "\n",
       "/* Specification for estimator info (e.g. \"i\" and \"?\") */\n",
       "\n",
       "/* Common style for \"i\" and \"?\" */\n",
       "\n",
       ".sk-estimator-doc-link,\n",
       "a:link.sk-estimator-doc-link,\n",
       "a:visited.sk-estimator-doc-link {\n",
       "  float: right;\n",
       "  font-size: smaller;\n",
       "  line-height: 1em;\n",
       "  font-family: monospace;\n",
       "  background-color: var(--sklearn-color-background);\n",
       "  border-radius: 1em;\n",
       "  height: 1em;\n",
       "  width: 1em;\n",
       "  text-decoration: none !important;\n",
       "  margin-left: 1ex;\n",
       "  /* unfitted */\n",
       "  border: var(--sklearn-color-unfitted-level-1) 1pt solid;\n",
       "  color: var(--sklearn-color-unfitted-level-1);\n",
       "}\n",
       "\n",
       ".sk-estimator-doc-link.fitted,\n",
       "a:link.sk-estimator-doc-link.fitted,\n",
       "a:visited.sk-estimator-doc-link.fitted {\n",
       "  /* fitted */\n",
       "  border: var(--sklearn-color-fitted-level-1) 1pt solid;\n",
       "  color: var(--sklearn-color-fitted-level-1);\n",
       "}\n",
       "\n",
       "/* On hover */\n",
       "div.sk-estimator:hover .sk-estimator-doc-link:hover,\n",
       ".sk-estimator-doc-link:hover,\n",
       "div.sk-label-container:hover .sk-estimator-doc-link:hover,\n",
       ".sk-estimator-doc-link:hover {\n",
       "  /* unfitted */\n",
       "  background-color: var(--sklearn-color-unfitted-level-3);\n",
       "  color: var(--sklearn-color-background);\n",
       "  text-decoration: none;\n",
       "}\n",
       "\n",
       "div.sk-estimator.fitted:hover .sk-estimator-doc-link.fitted:hover,\n",
       ".sk-estimator-doc-link.fitted:hover,\n",
       "div.sk-label-container:hover .sk-estimator-doc-link.fitted:hover,\n",
       ".sk-estimator-doc-link.fitted:hover {\n",
       "  /* fitted */\n",
       "  background-color: var(--sklearn-color-fitted-level-3);\n",
       "  color: var(--sklearn-color-background);\n",
       "  text-decoration: none;\n",
       "}\n",
       "\n",
       "/* Span, style for the box shown on hovering the info icon */\n",
       ".sk-estimator-doc-link span {\n",
       "  display: none;\n",
       "  z-index: 9999;\n",
       "  position: relative;\n",
       "  font-weight: normal;\n",
       "  right: .2ex;\n",
       "  padding: .5ex;\n",
       "  margin: .5ex;\n",
       "  width: min-content;\n",
       "  min-width: 20ex;\n",
       "  max-width: 50ex;\n",
       "  color: var(--sklearn-color-text);\n",
       "  box-shadow: 2pt 2pt 4pt #999;\n",
       "  /* unfitted */\n",
       "  background: var(--sklearn-color-unfitted-level-0);\n",
       "  border: .5pt solid var(--sklearn-color-unfitted-level-3);\n",
       "}\n",
       "\n",
       ".sk-estimator-doc-link.fitted span {\n",
       "  /* fitted */\n",
       "  background: var(--sklearn-color-fitted-level-0);\n",
       "  border: var(--sklearn-color-fitted-level-3);\n",
       "}\n",
       "\n",
       ".sk-estimator-doc-link:hover span {\n",
       "  display: block;\n",
       "}\n",
       "\n",
       "/* \"?\"-specific style due to the `<a>` HTML tag */\n",
       "\n",
       "#sk-container-id-2 a.estimator_doc_link {\n",
       "  float: right;\n",
       "  font-size: 1rem;\n",
       "  line-height: 1em;\n",
       "  font-family: monospace;\n",
       "  background-color: var(--sklearn-color-background);\n",
       "  border-radius: 1rem;\n",
       "  height: 1rem;\n",
       "  width: 1rem;\n",
       "  text-decoration: none;\n",
       "  /* unfitted */\n",
       "  color: var(--sklearn-color-unfitted-level-1);\n",
       "  border: var(--sklearn-color-unfitted-level-1) 1pt solid;\n",
       "}\n",
       "\n",
       "#sk-container-id-2 a.estimator_doc_link.fitted {\n",
       "  /* fitted */\n",
       "  border: var(--sklearn-color-fitted-level-1) 1pt solid;\n",
       "  color: var(--sklearn-color-fitted-level-1);\n",
       "}\n",
       "\n",
       "/* On hover */\n",
       "#sk-container-id-2 a.estimator_doc_link:hover {\n",
       "  /* unfitted */\n",
       "  background-color: var(--sklearn-color-unfitted-level-3);\n",
       "  color: var(--sklearn-color-background);\n",
       "  text-decoration: none;\n",
       "}\n",
       "\n",
       "#sk-container-id-2 a.estimator_doc_link.fitted:hover {\n",
       "  /* fitted */\n",
       "  background-color: var(--sklearn-color-fitted-level-3);\n",
       "}\n",
       "</style><div id=\"sk-container-id-2\" class=\"sk-top-container\"><div class=\"sk-text-repr-fallback\"><pre>RandomForestRegressor()</pre><b>In a Jupyter environment, please rerun this cell to show the HTML representation or trust the notebook. <br />On GitHub, the HTML representation is unable to render, please try loading this page with nbviewer.org.</b></div><div class=\"sk-container\" hidden><div class=\"sk-item\"><div class=\"sk-estimator fitted sk-toggleable\"><input class=\"sk-toggleable__control sk-hidden--visually\" id=\"sk-estimator-id-2\" type=\"checkbox\" checked><label for=\"sk-estimator-id-2\" class=\"sk-toggleable__label fitted sk-toggleable__label-arrow fitted\">&nbsp;&nbsp;RandomForestRegressor<a class=\"sk-estimator-doc-link fitted\" rel=\"noreferrer\" target=\"_blank\" href=\"https://scikit-learn.org/1.5/modules/generated/sklearn.ensemble.RandomForestRegressor.html\">?<span>Documentation for RandomForestRegressor</span></a><span class=\"sk-estimator-doc-link fitted\">i<span>Fitted</span></span></label><div class=\"sk-toggleable__content fitted\"><pre>RandomForestRegressor()</pre></div> </div></div></div></div>"
      ],
      "text/plain": [
       "RandomForestRegressor()"
      ]
     },
     "execution_count": 51,
     "metadata": {},
     "output_type": "execute_result"
    }
   ],
   "source": [
    "# Fit model on single train split\n",
    "RF_model.fit(train_x, train_y)"
   ]
  },
  {
   "cell_type": "code",
   "execution_count": 54,
   "metadata": {},
   "outputs": [
    {
     "name": "stderr",
     "output_type": "stream",
     "text": [
      "\u001b[32m2024-06-07 10:21:58.845\u001b[0m | \u001b[1mINFO    \u001b[0m | \u001b[36m__main__\u001b[0m:\u001b[36mmodel_performance\u001b[0m:\u001b[36m48\u001b[0m - \u001b[1mmean_squared_error: 0.53\u001b[0m\n",
      "\u001b[32m2024-06-07 10:21:58.845\u001b[0m | \u001b[1mINFO    \u001b[0m | \u001b[36m__main__\u001b[0m:\u001b[36mmodel_performance\u001b[0m:\u001b[36m49\u001b[0m - \u001b[1mpearson r: 0.84\u001b[0m\n",
      "\u001b[32m2024-06-07 10:21:58.846\u001b[0m | \u001b[1mINFO    \u001b[0m | \u001b[36m__main__\u001b[0m:\u001b[36mmodel_performance\u001b[0m:\u001b[36m50\u001b[0m - \u001b[1mspearman: 0.84\u001b[0m\n"
     ]
    },
    {
     "data": {
      "image/png": "[encoded data removed]",
      "text/plain": [
       "<Figure size 640x480 with 1 Axes>"
      ]
     },
     "metadata": {},
     "output_type": "display_data"
    }
   ],
   "source": [
    "# Get the features and bioactivities of the test set\n",
    "test_x, test_y = features[test_index], activities[test_index]\n",
    "\n",
    "# Compute the performance and generate the plot\n",
    "res = model_performance(RF_model, test_x, test_y, verbose=True)"
   ]
  },
  {
   "cell_type": "code",
   "execution_count": 56,
   "metadata": {},
   "outputs": [],
   "source": [
    "# Dump the transformer and model to pickle file\n",
    "import pickle\n",
    "\n",
    "with open(\"model/rf_regressor.pkl\", \"wb\") as fout:\n",
    "    pickle.dump((fp_transformer, RF_model), fout)"
   ]
  },
  {
   "cell_type": "markdown",
   "metadata": {},
   "source": [
    "#### Graph neural network\n",
    "Here we try to train a graph neural network model with 3 convolutional layers and a followed by a linear transformer for final output."
   ]
  },
  {
   "cell_type": "code",
   "execution_count": 71,
   "metadata": {},
   "outputs": [],
   "source": [
    "import torch\n",
    "from gnn import GCNModel\n",
    "\n",
    "# Define the graph model\n",
    "# Use CUDA if available\n",
    "device = torch.device('cuda' if torch.cuda.is_available() else 'cpu') \n",
    "\n",
    "# Create network and send to the device memory\n",
    "gnn_model = GCNModel(in_channels=transformer(mols[0])[0].x.shape[1], \n",
    "                     hidden_channels=128, \n",
    "                     out_channels=1, \n",
    "                     num_layers=3,\n",
    "                     is_reg=True).to(device)\n",
    "\n",
    "# Use Adam optimizer\n",
    "optimizer = torch.optim.Adam(gnn_model.parameters(), lr=0.001, weight_decay=1e-4) \n",
    "\n",
    "\n",
    "# Define the loss function\n",
    "loss_fn = torch.nn.MSELoss()"
   ]
  },
  {
   "cell_type": "code",
   "execution_count": 63,
   "metadata": {},
   "outputs": [
    {
     "data": {
      "text/plain": [
       "GCNModel(\n",
       "  (conv_layers): ModuleList(\n",
       "    (0): GCNConv(82, 128)\n",
       "    (1-3): 3 x GCNConv(128, 128)\n",
       "  )\n",
       "  (out): Linear(in_features=256, out_features=1, bias=True)\n",
       ")"
      ]
     },
     "execution_count": 63,
     "metadata": {},
     "output_type": "execute_result"
    }
   ],
   "source": [
    "# Display the GNN model\n",
    "gnn_model"
   ]
  },
  {
   "cell_type": "markdown",
   "metadata": {},
   "source": [
    "Below we convert the smiles to pyg graph object directly using `PYGGraphTransformer` from `molfeat`.\n",
    "\n",
    "Each graph in our dataset is encapsulated in a PyG Data object, a convient way of representing all structured data for use in Geometric Deep Learning (including graphs, point clouds, and meshes)."
   ]
  },
  {
   "cell_type": "code",
   "execution_count": 66,
   "metadata": {},
   "outputs": [
    {
     "data": {
      "application/vnd.jupyter.widget-view+json": {
       "model_id": "e1e41284f59342f4b81c12fe00bd9f15",
       "version_major": 2,
       "version_minor": 0
      },
      "text/plain": [
       "  0%|          | 0/5145 [00:00<?, ?it/s]"
      ]
     },
     "metadata": {},
     "output_type": "display_data"
    }
   ],
   "source": [
    "from molfeat.trans.graph.adj import PYGGraphTransformer\n",
    "\n",
    "# convert smiles to Rdkit.Mol object\n",
    "mols = np.array(dm.parallelized(fn=dm.to_mol, inputs_list=egfr[mol_col], progress=True))\n",
    "\n",
    "# converT Rdkit.Mol object to `torch_geometric.Data` object\n",
    "transformer = PYGGraphTransformer()\n",
    "\n",
    "train_set = []\n",
    "for index in train_index:\n",
    "    pyg_data = transformer(mols[index])[0]\n",
    "    pyg_data.y =torch.from_numpy(np.array([activities[index]])).to(torch.float32)\n",
    "    train_set.append(pyg_data)\n",
    "\n",
    "test_set = []\n",
    "for index in test_index:\n",
    "    pyg_data = transformer(mols[index])[0]\n",
    "    pyg_data.y =torch.from_numpy(np.array([activities[index]])).to(torch.float32)\n",
    "    test_set.append(pyg_data)"
   ]
  },
  {
   "cell_type": "markdown",
   "metadata": {},
   "source": [
    "Batching graphs can often be a tedious and intricate process. Fortunately, PyG simplifies this task significantly! With a list of Data objects, we can effortlessly batch them into a PyG Batch object and also unbatch them back into individual graphs. Moreover, for straightforward scenarios like ours, the PyG DataLoader object takes care of all the batching automatically."
   ]
  },
  {
   "cell_type": "code",
   "execution_count": 89,
   "metadata": {},
   "outputs": [],
   "source": [
    "# Create dataloaders with batch size 8\n",
    "from torch_geometric.loader import DataLoader\n",
    "\n",
    "batch_size = 8\n",
    "\n",
    "train_loader = DataLoader(train_set, batch_size=batch_size, shuffle=True)\n",
    "test_loader = DataLoader(test_set, batch_size=batch_size, shuffle=False)"
   ]
  },
  {
   "cell_type": "code",
   "execution_count": 87,
   "metadata": {},
   "outputs": [
    {
     "name": "stderr",
     "output_type": "stream",
     "text": [
      "  0%|                                                   | 0/515 [00:00<?, ?it/s]/Users/lu.zhu/miniconda3/envs/auroris/lib/python3.12/site-packages/torch/nn/modules/loss.py:535: UserWarning: Using a target size (torch.Size([8])) that is different to the input size (torch.Size([8, 1])). This will likely lead to incorrect results due to broadcasting. Please ensure they have the same size.\n",
      "  return F.mse_loss(input, target, reduction=self.reduction)\n",
      " 94%|█████████████████████████████████████▋  | 485/515 [00:01<00:00, 352.57it/s]/Users/lu.zhu/miniconda3/envs/auroris/lib/python3.12/site-packages/torch/nn/modules/loss.py:535: UserWarning: Using a target size (torch.Size([4])) that is different to the input size (torch.Size([4, 1])). This will likely lead to incorrect results due to broadcasting. Please ensure they have the same size.\n",
      "  return F.mse_loss(input, target, reduction=self.reduction)\n",
      "100%|████████████████████████████████████████| 515/515 [00:01<00:00, 357.21it/s]\n",
      "\u001b[32m2024-06-07 11:07:06.538\u001b[0m | \u001b[1mINFO    \u001b[0m | \u001b[36m__main__\u001b[0m:\u001b[36m<module>\u001b[0m:\u001b[36m26\u001b[0m - \u001b[1mEpoch: 000, Average loss: 0.24739\u001b[0m\n",
      "100%|████████████████████████████████████████| 515/515 [00:01<00:00, 362.20it/s]\n",
      "\u001b[32m2024-06-07 11:07:07.962\u001b[0m | \u001b[1mINFO    \u001b[0m | \u001b[36m__main__\u001b[0m:\u001b[36m<module>\u001b[0m:\u001b[36m26\u001b[0m - \u001b[1mEpoch: 001, Average loss: 0.24432\u001b[0m\n",
      "100%|████████████████████████████████████████| 515/515 [00:01<00:00, 354.30it/s]\n",
      "\u001b[32m2024-06-07 11:07:09.416\u001b[0m | \u001b[1mINFO    \u001b[0m | \u001b[36m__main__\u001b[0m:\u001b[36m<module>\u001b[0m:\u001b[36m26\u001b[0m - \u001b[1mEpoch: 002, Average loss: 0.24673\u001b[0m\n",
      "100%|████████████████████████████████████████| 515/515 [00:01<00:00, 351.20it/s]\n",
      "\u001b[32m2024-06-07 11:07:10.884\u001b[0m | \u001b[1mINFO    \u001b[0m | \u001b[36m__main__\u001b[0m:\u001b[36m<module>\u001b[0m:\u001b[36m26\u001b[0m - \u001b[1mEpoch: 003, Average loss: 0.24505\u001b[0m\n",
      "100%|████████████████████████████████████████| 515/515 [00:01<00:00, 368.67it/s]\n",
      "\u001b[32m2024-06-07 11:07:12.282\u001b[0m | \u001b[1mINFO    \u001b[0m | \u001b[36m__main__\u001b[0m:\u001b[36m<module>\u001b[0m:\u001b[36m26\u001b[0m - \u001b[1mEpoch: 004, Average loss: 0.24485\u001b[0m\n",
      "100%|████████████████████████████████████████| 515/515 [00:01<00:00, 370.81it/s]\n",
      "\u001b[32m2024-06-07 11:07:13.672\u001b[0m | \u001b[1mINFO    \u001b[0m | \u001b[36m__main__\u001b[0m:\u001b[36m<module>\u001b[0m:\u001b[36m26\u001b[0m - \u001b[1mEpoch: 005, Average loss: 0.24253\u001b[0m\n",
      "100%|████████████████████████████████████████| 515/515 [00:01<00:00, 367.40it/s]\n",
      "\u001b[32m2024-06-07 11:07:15.076\u001b[0m | \u001b[1mINFO    \u001b[0m | \u001b[36m__main__\u001b[0m:\u001b[36m<module>\u001b[0m:\u001b[36m26\u001b[0m - \u001b[1mEpoch: 006, Average loss: 0.24378\u001b[0m\n",
      "100%|████████████████████████████████████████| 515/515 [00:01<00:00, 368.76it/s]\n",
      "\u001b[32m2024-06-07 11:07:16.474\u001b[0m | \u001b[1mINFO    \u001b[0m | \u001b[36m__main__\u001b[0m:\u001b[36m<module>\u001b[0m:\u001b[36m26\u001b[0m - \u001b[1mEpoch: 007, Average loss: 0.24633\u001b[0m\n",
      "100%|████████████████████████████████████████| 515/515 [00:01<00:00, 369.55it/s]\n",
      "\u001b[32m2024-06-07 11:07:17.869\u001b[0m | \u001b[1mINFO    \u001b[0m | \u001b[36m__main__\u001b[0m:\u001b[36m<module>\u001b[0m:\u001b[36m26\u001b[0m - \u001b[1mEpoch: 008, Average loss: 0.24396\u001b[0m\n",
      "100%|████████████████████████████████████████| 515/515 [00:01<00:00, 338.80it/s]\n",
      "\u001b[32m2024-06-07 11:07:19.390\u001b[0m | \u001b[1mINFO    \u001b[0m | \u001b[36m__main__\u001b[0m:\u001b[36m<module>\u001b[0m:\u001b[36m26\u001b[0m - \u001b[1mEpoch: 009, Average loss: 0.24484\u001b[0m\n"
     ]
    }
   ],
   "source": [
    "from tqdm import tqdm\n",
    "num_epoch = 10\n",
    "\n",
    "#train model\n",
    "gnn_model.train() \n",
    "\n",
    "#run for epochs of training\n",
    "for epoch in range(num_epoch): \n",
    "    sum_loss = 0 #used to compute average loss in an epoch\n",
    "\n",
    "    #go over each training batches\n",
    "    for batch in tqdm(train_loader): \n",
    "        batch = batch.to(device) #send data to device\n",
    "        optimizer.zero_grad() #zero gradients\n",
    "        \n",
    "        #evaluate data point\n",
    "        out = gnn_model(batch)\n",
    "        loss = loss_fn(out, batch.y) #compute the loss\n",
    "        sum_loss += float(loss) # Add loss value to aggregate loss\n",
    "        \n",
    "        #compute gradients\n",
    "        loss.backward()\n",
    "        #apply optimization\n",
    "        \n",
    "        optimizer.step()\n",
    "    logger.info('Epoch: {:03d}, Average loss: {:.5f}'.format(epoch, sum_loss/len(train_set)))\n"
   ]
  },
  {
   "cell_type": "code",
   "execution_count": 90,
   "metadata": {},
   "outputs": [
    {
     "name": "stderr",
     "output_type": "stream",
     "text": [
      "\u001b[32m2024-06-07 11:07:47.883\u001b[0m | \u001b[1mINFO    \u001b[0m | \u001b[36m__main__\u001b[0m:\u001b[36mmodel_performance\u001b[0m:\u001b[36m48\u001b[0m - \u001b[1mmean_squared_error: 1.58\u001b[0m\n",
      "\u001b[32m2024-06-07 11:07:47.883\u001b[0m | \u001b[1mINFO    \u001b[0m | \u001b[36m__main__\u001b[0m:\u001b[36mmodel_performance\u001b[0m:\u001b[36m49\u001b[0m - \u001b[1mpearson r: 0.63\u001b[0m\n",
      "\u001b[32m2024-06-07 11:07:47.883\u001b[0m | \u001b[1mINFO    \u001b[0m | \u001b[36m__main__\u001b[0m:\u001b[36mmodel_performance\u001b[0m:\u001b[36m50\u001b[0m - \u001b[1mspearman: 0.65\u001b[0m\n"
     ]
    },
    {
     "data": {
      "image/png": "[encoded data removed]",
      "text/plain": [
       "<Figure size 640x480 with 1 Axes>"
      ]
     },
     "metadata": {},
     "output_type": "display_data"
    }
   ],
   "source": [
    "# Compute the performance and generate the plot\n",
    "res = model_performance(gnn_model, test_loader, test_y, verbose=True)"
   ]
  },
  {
   "cell_type": "markdown",
   "metadata": {},
   "source": [
    "#### Save both molecular transformer and the model "
   ]
  },
  {
   "cell_type": "code",
   "execution_count": 91,
   "metadata": {},
   "outputs": [],
   "source": [
    "import pickle\n",
    "with open(\"model/gnn_regressor.pkl\", \"wb\") as fout:\n",
    "    pickle.dump((transformer, gnn_model), fout)"
   ]
  },
  {
   "cell_type": "markdown",
   "metadata": {},
   "source": []
  }
 ],
 "metadata": {
  "kernelspec": {
   "display_name": "Python 3 (ipykernel)",
   "language": "python",
   "name": "python3"
  },
  "language_info": {
   "codemirror_mode": {
    "name": "ipython",
    "version": 3
   },
   "file_extension": ".py",
   "mimetype": "text/x-python",
   "name": "python",
   "nbconvert_exporter": "python",
   "pygments_lexer": "ipython3",
   "version": "3.12.3"
  }
 },
 "nbformat": 4,
 "nbformat_minor": 4
}
