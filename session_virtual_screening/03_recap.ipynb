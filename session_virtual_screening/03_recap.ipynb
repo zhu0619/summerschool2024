{
 "cells": [
  {
   "cell_type": "markdown",
   "metadata": {
    "vscode": {
     "languageId": "plaintext"
    }
   },
   "source": [
    "# Lab1 Recape"
   ]
  },
  {
   "cell_type": "markdown",
   "metadata": {},
   "source": [
    "1. We have successfully trained several models.\n",
    "2. We have used these models to score an unknown screening dataset to predict novel potential EGFR inhibitors.\n",
    "3. We have prioritized and selected 100 compounds as EGFR inhibitor candidates for further studies (Lab2 and Lab3)."
   ]
  },
  {
   "cell_type": "markdown",
   "metadata": {},
   "source": [
    "## Homework\n",
    "\n",
    "#### 1.  Virtual screening in OOD(out-of-distribution) setting \n",
    "In most scenarios in drug discovery involving novel chemical space, the screening set might be entirely or partially out of the distribution of the dataset used for model training. Therefore, it is crucial to train a QSAR model that can generalize well to unseen chemical spaces. In this context, it's important to design the data splitting strategy to effectively select models that can generalize better to the chemical space of the screening library.\n",
    "\n",
    "As an excecise, you can choose a different commercial screening library that covers distinct chemical spaces or subsample a few clusters of compounds from your training set and select the best splitting approach for model training. You can follow the approach proposed by [Tossou et al. 2024](https://pubs.acs.org/doi/10.1021/acs.jcim.3c01774). The implementation of **MOOD** (Model-Oriented Optimal Data splitting) is available at [splito.MOODSplitter](https://github.com/datamol-io/splito).\n",
    "\n",
    "#### 2.  Kinase selectivity \n",
    "Most kinase inhibitors target the ATP-binding site, competing with ATP for binding. Since ATP is a universal cofactor for kinase activity, these inhibitors may inadvertently inhibit multiple kinases with similar ATP-binding pockets. In this exercise, you can select another kinase from the tyrosine kinase family and replicate the processes outlined in the tutorial to propose inhibitor candidates that exhibit selectivity for EGFR.\n",
    "\n",
    "<img src=\"figures/selectivity.jpg\" width=\"500\"/>\n",
    "<p style=\"color:sliver\">Known kinase inhibitors binding on other kinases. Figure from https://www.nature.com/articles/ni.1701</p>\n"
   ]
  },
  {
   "cell_type": "markdown",
   "metadata": {},
   "source": [
    "<!-- (Optional)\n",
    "#### Mutant selectivity\n",
    "<img src=\"figures/egfr_mut.png\" width=\"500\"/>\n",
    "\n",
    "Follow the process of this tutorial and select few -->"
   ]
  }
 ],
 "metadata": {
  "kernelspec": {
   "display_name": "Python 3 (ipykernel)",
   "language": "python",
   "name": "python3"
  },
  "language_info": {
   "codemirror_mode": {
    "name": "ipython",
    "version": 3
   },
   "file_extension": ".py",
   "mimetype": "text/x-python",
   "name": "python",
   "nbconvert_exporter": "python",
   "pygments_lexer": "ipython3",
   "version": "3.12.3"
  }
 },
 "nbformat": 4,
 "nbformat_minor": 4
}
